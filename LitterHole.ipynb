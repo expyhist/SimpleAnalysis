{
 "cells": [
  {
   "cell_type": "code",
   "execution_count": 2,
   "metadata": {},
   "outputs": [],
   "source": [
    "import numpy as np\n",
    "import pandas as pd\n",
    "import matplotlib.pyplot as plt\n",
    "import seaborn as sns\n",
    "import warnings\n",
    "import re\n",
    "warnings.filterwarnings('ignore')\n",
    "%matplotlib inline"
   ]
  },
  {
   "cell_type": "code",
   "execution_count": 3,
   "metadata": {},
   "outputs": [
    {
     "data": {
      "text/plain": [
       "'\\n\\nQ：pd.DataFrame({\\'A\\':a,\\'B\\':b}) or pd.DataFrame(dict(A=\\'a\\',B=\\'b\\')) will raise a error:\\n\"ValueError: If using all scalar values, you must pass an index\"\\nA: \\nPerhaps it is because the order of items in a list in Python are persistent whereas the ordering of items in a dictionary are not. \\nYou can instantiate a DataFrame with an empty dictionary. \\nIn principle I suppose a single-row DataFrame as shown here would also be ok to build from a dictionary because the order does not matter (but this hasn\\'t been implemented). \\nHowever with multiple rows, Pandas would not be able to make a DataFrame because it would not know which items belonged to the same row\\n        \\nurl:https://stackoverflow.com/questions/17839973/constructing-pandas-dataframe-from-values-in-variables-gives-valueerror-if-usi\\n\\n\\n'"
      ]
     },
     "execution_count": 3,
     "metadata": {},
     "output_type": "execute_result"
    }
   ],
   "source": [
    "\"\"\"\n",
    "\n",
    "1.pd.cancat([Series...]) can doing only when list become Series\n",
    "2.Series.str.contains(string)  # contains =  \"LIKE\" in SQL\n",
    "3.Series.isin([string...]) and ~Series.isin([string...]) or -Series.isin([string...]) # isin = \"IN\" in SQL, and ~or- isin  = \"NOT IN\" in SQL\n",
    "4.list(DataFram[['col1','col2']].itertuples(index=False)) # dataframe to tuple\n",
    "5.DataFram[['col1','col2']].drop_duplicates() # delete duplicates\n",
    "6.DataFram['col']str.cat([df['col1'],df['col2']]) # make columns in pandas \n",
    "\n",
    "\"\"\"\n",
    "\n",
    "\"\"\"\n",
    "Q:what difference between iloc,loc,ix when you writer '-1'\n",
    "A:\n",
    "DataFram.iloc[-1] will replace last row,\n",
    "but DataFram.loc[-1] or DataFrame.ix[-1] will insert new row and the index of new row is '-1' or everything you writer.\n",
    "Attation! the index that you writer must not exit\n",
    "\n",
    "\"\"\"\n",
    "\n",
    "\"\"\"\n",
    "\n",
    "Q:在一列中存在这样的数据格式：（字符串+null）或者（字符串+int），如何统计null或int的值呢？以及如果后续想聚合，如何groupby呢？\n",
    "A:\n",
    "1.（series/dataframe）.isnull().sum(axis=1),其实sum(axis=1)是为后续聚合做准备的。\n",
    "series.isnull()是为了将NaN变成bool，sum()可以计算bool，True=1，False=0\n",
    "实例代码：\n",
    "x = df[['cluster_row','computer_row']].set_index('cluster_row').isnull().sum(axis=1)\n",
    "y = x.reset_index().groupby('cluster_row').sum()\n",
    "\n",
    "2.pd.to_numeric(errors='coerce') and series/dataframe.dropna()\n",
    "errors参数是把非数字变成NaN，然后dropna\n",
    "\n",
    "\"\"\"\n",
    "\n",
    "\"\"\"\n",
    "\n",
    "Q:what is sort df by list\n",
    "A:\n",
    "def sort(self,DataFram,columns,sort_list):\n",
    "    DataFram.reset_index(inplace=True)\n",
    "    DataFram[columns] = DataFram[columns].astype('category')\n",
    "    DataFram[columns].cat.reorder_categories(sort_list,inplace=True)\n",
    "    DataFram.sort_values(columns,inplace=True)\n",
    "    DataFram.reset_index(drop=True,inplace=True)\n",
    "\n",
    "\"\"\"\n",
    "\"\"\"\n",
    "\n",
    "Q:what is Date Tips？\n",
    "A:\n",
    "1. String and Datetime feature\n",
    "1.1 String adapt to display and manipulate\n",
    "eg: DataFram[columns].apply(lambda x : re.sub(r'年|月|日','-',str(x))[:-1])\n",
    "1.2 Datetime adapt to calculate,cluster and compare\n",
    "eg:datetime.date.today()-datetime.timedelta(days=7)\n",
    "Sometimes String ability of compare better than Datetime\n",
    "\n",
    "\"\"\"\n",
    "\n",
    "\"\"\"\n",
    "\n",
    "Q:pd.DataFrame({'A':a,'B':b}) or pd.DataFrame(dict(A='a',B='b')) will raise a error:\n",
    "\"ValueError: If using all scalar values, you must pass an index\"\n",
    "A: \n",
    "Perhaps it is because the order of items in a list in Python are persistent whereas the ordering of items in a dictionary are not. \n",
    "You can instantiate a DataFrame with an empty dictionary. \n",
    "In principle I suppose a single-row DataFrame as shown here would also be ok to build from a dictionary because the order does not matter (but this hasn't been implemented). \n",
    "However with multiple rows, Pandas would not be able to make a DataFrame because it would not know which items belonged to the same row\n",
    "        \n",
    "url:https://stackoverflow.com/questions/17839973/constructing-pandas-dataframe-from-values-in-variables-gives-valueerror-if-usi\n",
    "\n",
    "\n",
    "\"\"\"\n"
   ]
  },
  {
   "cell_type": "code",
   "execution_count": 155,
   "metadata": {},
   "outputs": [],
   "source": [
    "class SmallTool(object):\n",
    "    \n",
    "    def Rows2Columns(self,df):\n",
    "        pass\n",
    "    \n",
    "    def Columns2Rows(self,df):\n",
    "        pass\n",
    "        "
   ]
  }
 ],
 "metadata": {
  "kernelspec": {
   "display_name": "Python 3",
   "language": "python",
   "name": "python3"
  },
  "language_info": {
   "codemirror_mode": {
    "name": "ipython",
    "version": 3
   },
   "file_extension": ".py",
   "mimetype": "text/x-python",
   "name": "python",
   "nbconvert_exporter": "python",
   "pygments_lexer": "ipython3",
   "version": "3.7.3"
  }
 },
 "nbformat": 4,
 "nbformat_minor": 2
}
